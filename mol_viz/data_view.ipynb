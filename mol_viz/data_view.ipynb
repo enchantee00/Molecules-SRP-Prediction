{
 "cells": [
  {
   "cell_type": "code",
   "execution_count": 1,
   "metadata": {},
   "outputs": [],
   "source": [
    "import pandas as pd"
   ]
  },
  {
   "cell_type": "code",
   "execution_count": 2,
   "metadata": {},
   "outputs": [],
   "source": [
    "df = pd.read_csv(\"./ring_data3_calculated.csv\")"
   ]
  },
  {
   "cell_type": "code",
   "execution_count": 3,
   "metadata": {},
   "outputs": [
    {
     "data": {
      "text/html": [
       "<div>\n",
       "<style scoped>\n",
       "    .dataframe tbody tr th:only-of-type {\n",
       "        vertical-align: middle;\n",
       "    }\n",
       "\n",
       "    .dataframe tbody tr th {\n",
       "        vertical-align: top;\n",
       "    }\n",
       "\n",
       "    .dataframe thead th {\n",
       "        text-align: right;\n",
       "    }\n",
       "</style>\n",
       "<table border=\"1\" class=\"dataframe\">\n",
       "  <thead>\n",
       "    <tr style=\"text-align: right;\">\n",
       "      <th></th>\n",
       "      <th>Formula</th>\n",
       "      <th>Name</th>\n",
       "      <th>IUPAC Standard InChIKey</th>\n",
       "      <th>EA</th>\n",
       "      <th>IE</th>\n",
       "      <th>SMILES</th>\n",
       "      <th>EA()</th>\n",
       "      <th>IE()</th>\n",
       "    </tr>\n",
       "  </thead>\n",
       "  <tbody>\n",
       "    <tr>\n",
       "      <th>0</th>\n",
       "      <td>C21H13N</td>\n",
       "      <td>Dibenz[a,j]acridine</td>\n",
       "      <td>ANUCHZVCBDOPOX-UHFFFAOYSA-N</td>\n",
       "      <td>NaN</td>\n",
       "      <td>NaN</td>\n",
       "      <td>C1=CC=C2C(=C1)C=CC3=NC4=C(C=C32)C5=CC=CC=C5C=C4</td>\n",
       "      <td>0.938131878</td>\n",
       "      <td>7.202509522</td>\n",
       "    </tr>\n",
       "    <tr>\n",
       "      <th>1</th>\n",
       "      <td>C21H13N</td>\n",
       "      <td>Dibenz(a,h)acridine</td>\n",
       "      <td>JNCSIWAONQTVCF-UHFFFAOYSA-N</td>\n",
       "      <td>NaN</td>\n",
       "      <td>NaN</td>\n",
       "      <td>C1=CC=C2C(=C1)C=CC3=C2C=C4C=CC5=CC=CC=C5C4=N3</td>\n",
       "      <td>0.923873314</td>\n",
       "      <td>7.031267978</td>\n",
       "    </tr>\n",
       "    <tr>\n",
       "      <th>2</th>\n",
       "      <td>C21H13N</td>\n",
       "      <td>Dibenz(a,c)acridine</td>\n",
       "      <td>GUZBPGZOTDAWBO-UHFFFAOYSA-N</td>\n",
       "      <td>NaN</td>\n",
       "      <td>NaN</td>\n",
       "      <td>C1=CC=C2C(=C1)C=C3C4=CC=CC=C4C5=CC=CC=C5C3=N2</td>\n",
       "      <td>0.926428427</td>\n",
       "      <td>7.178550237</td>\n",
       "    </tr>\n",
       "    <tr>\n",
       "      <th>3</th>\n",
       "      <td>C13H14N4O</td>\n",
       "      <td>Pyrazolo[1,5-d][1,2,4]triazin-3-one, 2,6-dimet...</td>\n",
       "      <td>RUFNUJIQQGZOLS-UHFFFAOYSA-N</td>\n",
       "      <td>NaN</td>\n",
       "      <td>NaN</td>\n",
       "      <td>CC1=NN2C(N(NC(=O)C2=C1)C)C3=CC=CC=C3</td>\n",
       "      <td>-0.070152679</td>\n",
       "      <td>7.269777835</td>\n",
       "    </tr>\n",
       "    <tr>\n",
       "      <th>4</th>\n",
       "      <td>C13H14N4O</td>\n",
       "      <td>Diphenylcarbazide</td>\n",
       "      <td>KSPIHGBHKVISFI-UHFFFAOYSA-N</td>\n",
       "      <td>NaN</td>\n",
       "      <td>NaN</td>\n",
       "      <td>NaN</td>\n",
       "      <td>-0.704090067</td>\n",
       "      <td>6.526356989</td>\n",
       "    </tr>\n",
       "  </tbody>\n",
       "</table>\n",
       "</div>"
      ],
      "text/plain": [
       "     Formula                                               Name  \\\n",
       "0    C21H13N                                Dibenz[a,j]acridine   \n",
       "1    C21H13N                                Dibenz(a,h)acridine   \n",
       "2    C21H13N                                Dibenz(a,c)acridine   \n",
       "3  C13H14N4O  Pyrazolo[1,5-d][1,2,4]triazin-3-one, 2,6-dimet...   \n",
       "4  C13H14N4O                                  Diphenylcarbazide   \n",
       "\n",
       "       IUPAC Standard InChIKey   EA   IE  \\\n",
       "0  ANUCHZVCBDOPOX-UHFFFAOYSA-N  NaN  NaN   \n",
       "1  JNCSIWAONQTVCF-UHFFFAOYSA-N  NaN  NaN   \n",
       "2  GUZBPGZOTDAWBO-UHFFFAOYSA-N  NaN  NaN   \n",
       "3  RUFNUJIQQGZOLS-UHFFFAOYSA-N  NaN  NaN   \n",
       "4  KSPIHGBHKVISFI-UHFFFAOYSA-N  NaN  NaN   \n",
       "\n",
       "                                            SMILES          EA()         IE()  \n",
       "0  C1=CC=C2C(=C1)C=CC3=NC4=C(C=C32)C5=CC=CC=C5C=C4   0.938131878  7.202509522  \n",
       "1    C1=CC=C2C(=C1)C=CC3=C2C=C4C=CC5=CC=CC=C5C4=N3   0.923873314  7.031267978  \n",
       "2    C1=CC=C2C(=C1)C=C3C4=CC=CC=C4C5=CC=CC=C5C3=N2   0.926428427  7.178550237  \n",
       "3             CC1=NN2C(N(NC(=O)C2=C1)C)C3=CC=CC=C3  -0.070152679  7.269777835  \n",
       "4                                              NaN  -0.704090067  6.526356989  "
      ]
     },
     "execution_count": 3,
     "metadata": {},
     "output_type": "execute_result"
    }
   ],
   "source": [
    "df.head()"
   ]
  },
  {
   "cell_type": "code",
   "execution_count": 4,
   "metadata": {},
   "outputs": [
    {
     "data": {
      "text/plain": [
       "Formula                       0\n",
       "Name                          0\n",
       "IUPAC Standard InChIKey       0\n",
       "EA                         2515\n",
       "IE                         2038\n",
       "SMILES                      344\n",
       "EA()                          4\n",
       "IE()                          7\n",
       "dtype: int64"
      ]
     },
     "execution_count": 4,
     "metadata": {},
     "output_type": "execute_result"
    }
   ],
   "source": [
    "df.isna().sum()"
   ]
  },
  {
   "cell_type": "code",
   "execution_count": 5,
   "metadata": {},
   "outputs": [
    {
     "data": {
      "text/plain": [
       "2572"
      ]
     },
     "execution_count": 5,
     "metadata": {},
     "output_type": "execute_result"
    }
   ],
   "source": [
    "len(df)"
   ]
  },
  {
   "cell_type": "code",
   "execution_count": null,
   "metadata": {},
   "outputs": [],
   "source": []
  }
 ],
 "metadata": {
  "kernelspec": {
   "display_name": ".venv",
   "language": "python",
   "name": "python3"
  },
  "language_info": {
   "codemirror_mode": {
    "name": "ipython",
    "version": 3
   },
   "file_extension": ".py",
   "mimetype": "text/x-python",
   "name": "python",
   "nbconvert_exporter": "python",
   "pygments_lexer": "ipython3",
   "version": "3.8.14"
  },
  "orig_nbformat": 4
 },
 "nbformat": 4,
 "nbformat_minor": 2
}
